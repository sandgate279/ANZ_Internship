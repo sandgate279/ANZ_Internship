{
 "cells": [
  {
   "cell_type": "code",
   "execution_count": 24,
   "metadata": {},
   "outputs": [],
   "source": [
    "import pandas as pd\n",
    "df = pd.read_csv(r'C:\\Users\\sures\\Desktop\\123.csv')\n"
   ]
  },
  {
   "cell_type": "code",
   "execution_count": 25,
   "metadata": {},
   "outputs": [
    {
     "data": {
      "text/plain": [
       "Total_balance      0\n",
       "Cus_id             0\n",
       "Unnamed: 2       100\n",
       "Annual_salary      0\n",
       "Long_lat           0\n",
       "Age                0\n",
       "dtype: int64"
      ]
     },
     "execution_count": 25,
     "metadata": {},
     "output_type": "execute_result"
    }
   ],
   "source": [
    "df.isnull().sum()"
   ]
  },
  {
   "cell_type": "code",
   "execution_count": 26,
   "metadata": {},
   "outputs": [
    {
     "name": "stdout",
     "output_type": "stream",
     "text": [
      "Features:\n",
      "[[19]\n",
      " [26]\n",
      " [30]\n",
      " [21]\n",
      " [35]\n",
      " [18]\n",
      " [30]\n",
      " [21]\n",
      " [40]\n",
      " [24]]\n",
      "\n",
      "Labels:\n",
      "[27842.22  8603.88 10851.72 13481.91  8703.84 11713.74 21277.36 18010.37\n",
      " 29512.28 12048.98]\n"
     ]
    }
   ],
   "source": [
    "# Separate features and labels\n",
    "X, y = df[['Age']].values, df['Annual_salary'].values\n",
    "print('Features:',X[:10], '\\nLabels:', y[:10], sep='\\n')"
   ]
  },
  {
   "cell_type": "code",
   "execution_count": 27,
   "metadata": {},
   "outputs": [
    {
     "name": "stdout",
     "output_type": "stream",
     "text": [
      "Training Set: 70, rows\n",
      "Test Set: 30 rows\n"
     ]
    }
   ],
   "source": [
    "from sklearn.model_selection import train_test_split\n",
    "\n",
    "# Split data 70%-30% into training set and test set\n",
    "X_train, X_test, y_train, y_test = train_test_split(X, y, test_size=0.30, random_state=0)\n",
    "\n",
    "print ('Training Set: %d, rows\\nTest Set: %d rows' % (X_train.size, X_test.size))"
   ]
  },
  {
   "cell_type": "code",
   "execution_count": 28,
   "metadata": {},
   "outputs": [
    {
     "name": "stdout",
     "output_type": "stream",
     "text": [
      "LinearRegression(copy_X=True, fit_intercept=True, n_jobs=None, normalize=False)\n"
     ]
    }
   ],
   "source": [
    "# Train the model\n",
    "from sklearn.linear_model import LinearRegression\n",
    "\n",
    "# Fit a linear regression model on the training set\n",
    "model = LinearRegression().fit(X_train, y_train)\n",
    "print (model)"
   ]
  },
  {
   "cell_type": "code",
   "execution_count": 29,
   "metadata": {},
   "outputs": [
    {
     "name": "stdout",
     "output_type": "stream",
     "text": [
      "Predicted labels:  [15956. 16222. 16594. 17073. 16328. 17339. 17285. 17073. 16062. 16807.]\n",
      "Actual labels   :  [28925.61 27327.65 10851.72 25517.55 15929.29  7155.96 14952.56 21497.98\n",
      "  9844.98 27326.11]\n"
     ]
    }
   ],
   "source": [
    "import numpy as np\n",
    "\n",
    "predictions = model.predict(X_test)\n",
    "np.set_printoptions(suppress=True)\n",
    "print('Predicted labels: ', np.round(predictions)[:10])\n",
    "print('Actual labels   : ' ,y_test[:10])"
   ]
  },
  {
   "cell_type": "code",
   "execution_count": 30,
   "metadata": {},
   "outputs": [
    {
     "data": {
      "image/png": "[encoded data removed]",
      "text/plain": [
       "<Figure size 432x288 with 1 Axes>"
      ]
     },
     "metadata": {
      "needs_background": "light"
     },
     "output_type": "display_data"
    }
   ],
   "source": [
    "import matplotlib.pyplot as plt\n",
    "\n",
    "%matplotlib inline\n",
    "\n",
    "plt.scatter(y_test, predictions)\n",
    "plt.xlabel('Actual Labels')\n",
    "plt.ylabel('Predicted Labels')\n",
    "plt.title('Influence of age on annual salary')\n",
    "# overlay the regression line\n",
    "z = np.polyfit(y_test, predictions, 1)\n",
    "p = np.poly1d(z)\n",
    "plt.plot(y_test,p(y_test), color='magenta')\n",
    "plt.show()"
   ]
  },
  {
   "cell_type": "code",
   "execution_count": 31,
   "metadata": {},
   "outputs": [
    {
     "name": "stdout",
     "output_type": "stream",
     "text": [
      "MSE: 61211008.14177867\n",
      "RMSE: 7823.746426219262\n",
      "R2: -0.05229423480200657\n"
     ]
    }
   ],
   "source": [
    "from sklearn.metrics import mean_squared_error, r2_score\n",
    "\n",
    "mse = mean_squared_error(y_test, predictions)\n",
    "print(\"MSE:\", mse)\n",
    "\n",
    "rmse = np.sqrt(mse)\n",
    "print(\"RMSE:\", rmse)\n",
    "\n",
    "r2 = r2_score(y_test, predictions)\n",
    "print(\"R2:\", r2)"
   ]
  },
  {
   "cell_type": "code",
   "execution_count": 32,
   "metadata": {},
   "outputs": [
    {
     "data": {
      "text/plain": [
       "-0.036503904066141256"
      ]
     },
     "execution_count": 32,
     "metadata": {},
     "output_type": "execute_result"
    }
   ],
   "source": [
    "df.Age.corr(df.Annual_salary)"
   ]
  },
  {
   "cell_type": "code",
   "execution_count": 33,
   "metadata": {},
   "outputs": [
    {
     "data": {
      "text/plain": [
       "<matplotlib.axes._subplots.AxesSubplot at 0x23a0707c0f0>"
      ]
     },
     "execution_count": 33,
     "metadata": {},
     "output_type": "execute_result"
    },
    {
     "data": {
      "image/png": "[encoded data removed]",
      "text/plain": [
       "<Figure size 432x288 with 1 Axes>"
      ]
     },
     "metadata": {
      "needs_background": "light"
     },
     "output_type": "display_data"
    }
   ],
   "source": [
    "# Create a scatter plot\n",
    "df.plot.scatter(title='Age vs Annual Salary', x='Age', y='Annual_salary')"
   ]
  },
  {
   "cell_type": "code",
   "execution_count": 34,
   "metadata": {},
   "outputs": [
    {
     "data": {
      "text/plain": [
       "Total_balance    100\n",
       "Cus_id           100\n",
       "Unnamed: 2         0\n",
       "Annual_salary    100\n",
       "Long_lat         100\n",
       "Age              100\n",
       "dtype: int64"
      ]
     },
     "execution_count": 34,
     "metadata": {},
     "output_type": "execute_result"
    }
   ],
   "source": [
    "import pandas as pd\n",
    "df = pd.read_csv(r'C:\\Users\\sures\\Desktop\\123.csv')\n",
    "df.count()\n",
    "\n"
   ]
  },
  {
   "cell_type": "code",
   "execution_count": 35,
   "metadata": {},
   "outputs": [
    {
     "name": "stdout",
     "output_type": "stream",
     "text": [
      "Features:\n",
      "[[ 1758186.58       19.  ]\n",
      " [  665248.77       26.  ]\n",
      " [  806710.31       30.  ]\n",
      " [  465855.96       21.  ]\n",
      " [  260858.31       35.  ]\n",
      " [  410738.73       18.  ]\n",
      " [  400793.8        30.  ]\n",
      " [  881717.52       21.  ]\n",
      " [29983336.71       40.  ]\n",
      " [ 3916213.76       24.  ]]\n",
      "\n",
      "Labels:\n",
      "[27842.22  8603.88 10851.72 13481.91  8703.84 11713.74 21277.36 18010.37\n",
      " 29512.28 12048.98]\n"
     ]
    }
   ],
   "source": [
    "# Separate features and labels\n",
    "X, y = df[['Total_balance','Age']].values, df['Annual_salary'].values\n",
    "print('Features:',X[:10], '\\nLabels:', y[:10], sep='\\n')"
   ]
  },
  {
   "cell_type": "code",
   "execution_count": 36,
   "metadata": {},
   "outputs": [
    {
     "name": "stdout",
     "output_type": "stream",
     "text": [
      "Training Set: 140, rows\n",
      "Test Set: 60 rows\n"
     ]
    }
   ],
   "source": [
    "from sklearn.model_selection import train_test_split\n",
    "\n",
    "# Split data 70%-30% into training set and test set\n",
    "X_train, X_test, y_train, y_test = train_test_split(X, y, test_size=0.30, random_state=0)\n",
    "\n",
    "print ('Training Set: %d, rows\\nTest Set: %d rows' % (X_train.size, X_test.size))"
   ]
  },
  {
   "cell_type": "code",
   "execution_count": null,
   "metadata": {},
   "outputs": [],
   "source": []
  },
  {
   "cell_type": "code",
   "execution_count": 37,
   "metadata": {},
   "outputs": [
    {
     "name": "stdout",
     "output_type": "stream",
     "text": [
      "DecisionTreeRegressor(ccp_alpha=0.0, criterion='mse', max_depth=None,\n",
      "                      max_features=None, max_leaf_nodes=None,\n",
      "                      min_impurity_decrease=0.0, min_impurity_split=None,\n",
      "                      min_samples_leaf=1, min_samples_split=2,\n",
      "                      min_weight_fraction_leaf=0.0, presort='deprecated',\n",
      "                      random_state=None, splitter='best') \n",
      "\n",
      "|--- feature_0 <= 696745.22\n",
      "|   |--- feature_0 <= 502063.41\n",
      "|   |   |--- feature_0 <= 268372.19\n",
      "|   |   |   |--- feature_0 <= 259199.23\n",
      "|   |   |   |   |--- feature_0 <= 230521.70\n",
      "|   |   |   |   |   |--- feature_0 <= 158165.98\n",
      "|   |   |   |   |   |   |--- value: [9727.24]\n",
      "|   |   |   |   |   |--- feature_0 >  158165.98\n",
      "|   |   |   |   |   |   |--- value: [9226.08]\n",
      "|   |   |   |   |--- feature_0 >  230521.70\n",
      "|   |   |   |   |   |--- value: [11058.84]\n",
      "|   |   |   |--- feature_0 >  259199.23\n",
      "|   |   |   |   |--- value: [8703.84]\n",
      "|   |   |--- feature_0 >  268372.19\n",
      "|   |   |   |--- feature_1 <= 23.50\n",
      "|   |   |   |   |--- feature_0 <= 301350.92\n",
      "|   |   |   |   |   |--- value: [11573.82]\n",
      "|   |   |   |   |--- feature_0 >  301350.92\n",
      "|   |   |   |   |   |--- feature_1 <= 19.50\n",
      "|   |   |   |   |   |   |--- value: [11713.74]\n",
      "|   |   |   |   |   |--- feature_1 >  19.50\n",
      "|   |   |   |   |   |   |--- feature_1 <= 22.50\n",
      "|   |   |   |   |   |   |   |--- feature_1 <= 21.50\n",
      "|   |   |   |   |   |   |   |   |--- value: [14165.76]\n",
      "|   |   |   |   |   |   |   |--- feature_1 >  21.50\n",
      "|   |   |   |   |   |   |   |   |--- value: [13767.04]\n",
      "|   |   |   |   |   |   |--- feature_1 >  22.50\n",
      "|   |   |   |   |   |   |   |--- value: [12775.23]\n",
      "|   |   |   |--- feature_1 >  23.50\n",
      "|   |   |   |   |--- feature_0 <= 382432.31\n",
      "|   |   |   |   |   |--- feature_1 <= 40.00\n",
      "|   |   |   |   |   |   |--- feature_1 <= 36.50\n",
      "|   |   |   |   |   |   |   |--- feature_1 <= 29.50\n",
      "|   |   |   |   |   |   |   |   |--- value: [11137.68]\n",
      "|   |   |   |   |   |   |   |--- feature_1 >  29.50\n",
      "|   |   |   |   |   |   |   |   |--- value: [11218.35]\n",
      "|   |   |   |   |   |   |--- feature_1 >  36.50\n",
      "|   |   |   |   |   |   |   |--- value: [13027.69]\n",
      "|   |   |   |   |   |--- feature_1 >  40.00\n",
      "|   |   |   |   |   |   |--- value: [10089.48]\n",
      "|   |   |   |   |--- feature_0 >  382432.31\n",
      "|   |   |   |   |   |--- feature_0 <= 438637.28\n",
      "|   |   |   |   |   |   |--- feature_1 <= 36.50\n",
      "|   |   |   |   |   |   |   |--- value: [9821.80]\n",
      "|   |   |   |   |   |   |--- feature_1 >  36.50\n",
      "|   |   |   |   |   |   |   |--- value: [9782.16]\n",
      "|   |   |   |   |   |--- feature_0 >  438637.28\n",
      "|   |   |   |   |   |   |--- feature_0 <= 477028.50\n",
      "|   |   |   |   |   |   |   |--- value: [11499.06]\n",
      "|   |   |   |   |   |   |--- feature_0 >  477028.50\n",
      "|   |   |   |   |   |   |   |--- value: [9856.56]\n",
      "|   |--- feature_0 >  502063.41\n",
      "|   |   |--- feature_1 <= 19.50\n",
      "|   |   |   |--- value: [22061.64]\n",
      "|   |   |--- feature_1 >  19.50\n",
      "|   |   |   |--- feature_0 <= 651822.75\n",
      "|   |   |   |   |--- feature_0 <= 549429.31\n",
      "|   |   |   |   |   |--- feature_1 <= 23.00\n",
      "|   |   |   |   |   |   |--- feature_0 <= 518172.44\n",
      "|   |   |   |   |   |   |   |--- value: [16146.41]\n",
      "|   |   |   |   |   |   |--- feature_0 >  518172.44\n",
      "|   |   |   |   |   |   |   |--- value: [14296.10]\n",
      "|   |   |   |   |   |--- feature_1 >  23.00\n",
      "|   |   |   |   |   |   |--- feature_0 <= 538557.88\n",
      "|   |   |   |   |   |   |   |--- feature_1 <= 36.00\n",
      "|   |   |   |   |   |   |   |   |--- value: [12951.12]\n",
      "|   |   |   |   |   |   |   |--- feature_1 >  36.00\n",
      "|   |   |   |   |   |   |   |   |--- value: [12609.06]\n",
      "|   |   |   |   |   |   |--- feature_0 >  538557.88\n",
      "|   |   |   |   |   |   |   |--- value: [12214.46]\n",
      "|   |   |   |   |--- feature_0 >  549429.31\n",
      "|   |   |   |   |   |--- feature_1 <= 23.50\n",
      "|   |   |   |   |   |   |--- value: [13312.38]\n",
      "|   |   |   |   |   |--- feature_1 >  23.50\n",
      "|   |   |   |   |   |   |--- feature_1 <= 58.00\n",
      "|   |   |   |   |   |   |   |--- feature_0 <= 637040.72\n",
      "|   |   |   |   |   |   |   |   |--- feature_1 <= 36.00\n",
      "|   |   |   |   |   |   |   |   |   |--- feature_0 <= 597061.72\n",
      "|   |   |   |   |   |   |   |   |   |   |--- value: [16127.10]\n",
      "|   |   |   |   |   |   |   |   |   |--- feature_0 >  597061.72\n",
      "|   |   |   |   |   |   |   |   |   |   |--- value: [15976.52]\n",
      "|   |   |   |   |   |   |   |   |--- feature_1 >  36.00\n",
      "|   |   |   |   |   |   |   |   |   |--- value: [16542.11]\n",
      "|   |   |   |   |   |   |   |--- feature_0 >  637040.72\n",
      "|   |   |   |   |   |   |   |   |--- value: [15384.74]\n",
      "|   |   |   |   |   |   |--- feature_1 >  58.00\n",
      "|   |   |   |   |   |   |   |--- value: [14603.68]\n",
      "|   |   |   |--- feature_0 >  651822.75\n",
      "|   |   |   |   |--- feature_0 <= 674865.66\n",
      "|   |   |   |   |   |--- value: [8603.88]\n",
      "|   |   |   |   |--- feature_0 >  674865.66\n",
      "|   |   |   |   |   |--- feature_1 <= 28.50\n",
      "|   |   |   |   |   |   |--- value: [12107.80]\n",
      "|   |   |   |   |   |--- feature_1 >  28.50\n",
      "|   |   |   |   |   |   |--- value: [11926.85]\n",
      "|--- feature_0 >  696745.22\n",
      "|   |--- feature_1 <= 43.50\n",
      "|   |   |--- feature_1 <= 42.50\n",
      "|   |   |   |--- feature_0 <= 1181822.50\n",
      "|   |   |   |   |--- feature_1 <= 34.50\n",
      "|   |   |   |   |   |--- feature_1 <= 20.50\n",
      "|   |   |   |   |   |   |--- feature_0 <= 1090662.69\n",
      "|   |   |   |   |   |   |   |--- feature_0 <= 948034.41\n",
      "|   |   |   |   |   |   |   |   |--- value: [17397.59]\n",
      "|   |   |   |   |   |   |   |--- feature_0 >  948034.41\n",
      "|   |   |   |   |   |   |   |   |--- value: [14804.27]\n",
      "|   |   |   |   |   |   |--- feature_0 >  1090662.69\n",
      "|   |   |   |   |   |   |   |--- feature_1 <= 19.50\n",
      "|   |   |   |   |   |   |   |   |--- value: [18478.32]\n",
      "|   |   |   |   |   |   |   |--- feature_1 >  19.50\n",
      "|   |   |   |   |   |   |   |   |--- value: [19536.86]\n",
      "|   |   |   |   |   |--- feature_1 >  20.50\n",
      "|   |   |   |   |   |   |--- feature_1 <= 23.50\n",
      "|   |   |   |   |   |   |   |--- feature_0 <= 900587.28\n",
      "|   |   |   |   |   |   |   |   |--- feature_1 <= 22.50\n",
      "|   |   |   |   |   |   |   |   |   |--- value: [23301.39]\n",
      "|   |   |   |   |   |   |   |   |--- feature_1 >  22.50\n",
      "|   |   |   |   |   |   |   |   |   |--- value: [22770.72]\n",
      "|   |   |   |   |   |   |   |--- feature_0 >  900587.28\n",
      "|   |   |   |   |   |   |   |   |--- value: [25050.55]\n",
      "|   |   |   |   |   |   |--- feature_1 >  23.50\n",
      "|   |   |   |   |   |   |   |--- feature_0 <= 987049.12\n",
      "|   |   |   |   |   |   |   |   |--- feature_1 <= 25.50\n",
      "|   |   |   |   |   |   |   |   |   |--- value: [13777.92]\n",
      "|   |   |   |   |   |   |   |   |--- feature_1 >  25.50\n",
      "|   |   |   |   |   |   |   |   |   |--- feature_0 <= 837264.69\n",
      "|   |   |   |   |   |   |   |   |   |   |--- value: [18150.99]\n",
      "|   |   |   |   |   |   |   |   |   |--- feature_0 >  837264.69\n",
      "|   |   |   |   |   |   |   |   |   |   |--- value: [17319.12]\n",
      "|   |   |   |   |   |   |   |--- feature_0 >  987049.12\n",
      "|   |   |   |   |   |   |   |   |--- value: [22248.07]\n",
      "|   |   |   |   |--- feature_1 >  34.50\n",
      "|   |   |   |   |   |--- feature_1 <= 39.00\n",
      "|   |   |   |   |   |   |--- feature_0 <= 1008469.88\n",
      "|   |   |   |   |   |   |   |--- value: [15000.00]\n",
      "|   |   |   |   |   |   |--- feature_0 >  1008469.88\n",
      "|   |   |   |   |   |   |   |--- value: [13852.02]\n",
      "|   |   |   |   |   |--- feature_1 >  39.00\n",
      "|   |   |   |   |   |   |--- value: [11597.17]\n",
      "|   |   |   |--- feature_0 >  1181822.50\n",
      "|   |   |   |   |--- feature_0 <= 1771375.31\n",
      "|   |   |   |   |   |--- feature_1 <= 39.00\n",
      "|   |   |   |   |   |   |--- feature_0 <= 1733920.00\n",
      "|   |   |   |   |   |   |   |--- feature_0 <= 1235358.56\n",
      "|   |   |   |   |   |   |   |   |--- value: [24623.27]\n",
      "|   |   |   |   |   |   |   |--- feature_0 >  1235358.56\n",
      "|   |   |   |   |   |   |   |   |--- feature_0 <= 1498965.12\n",
      "|   |   |   |   |   |   |   |   |   |--- value: [21897.06]\n",
      "|   |   |   |   |   |   |   |   |--- feature_0 >  1498965.12\n",
      "|   |   |   |   |   |   |   |   |   |--- value: [19881.05]\n",
      "|   |   |   |   |   |   |--- feature_0 >  1733920.00\n",
      "|   |   |   |   |   |   |   |--- value: [27842.22]\n",
      "|   |   |   |   |   |--- feature_1 >  39.00\n",
      "|   |   |   |   |   |   |--- feature_0 <= 1287226.19\n",
      "|   |   |   |   |   |   |   |--- value: [25305.41]\n",
      "|   |   |   |   |   |   |--- feature_0 >  1287226.19\n",
      "|   |   |   |   |   |   |   |--- value: [29644.68]\n",
      "|   |   |   |   |--- feature_0 >  1771375.31\n",
      "|   |   |   |   |   |--- feature_0 <= 3931178.25\n",
      "|   |   |   |   |   |   |--- feature_0 <= 2203260.81\n",
      "|   |   |   |   |   |   |   |--- feature_0 <= 1953591.38\n",
      "|   |   |   |   |   |   |   |   |--- feature_1 <= 40.00\n",
      "|   |   |   |   |   |   |   |   |   |--- feature_0 <= 1842646.94\n",
      "|   |   |   |   |   |   |   |   |   |   |--- value: [18531.66]\n",
      "|   |   |   |   |   |   |   |   |   |--- feature_0 >  1842646.94\n",
      "|   |   |   |   |   |   |   |   |   |   |--- value: [17770.76]\n",
      "|   |   |   |   |   |   |   |   |--- feature_1 >  40.00\n",
      "|   |   |   |   |   |   |   |   |   |--- value: [12304.74]\n",
      "|   |   |   |   |   |   |   |--- feature_0 >  1953591.38\n",
      "|   |   |   |   |   |   |   |   |--- value: [30837.10]\n",
      "|   |   |   |   |   |   |--- feature_0 >  2203260.81\n",
      "|   |   |   |   |   |   |   |--- feature_1 <= 31.00\n",
      "|   |   |   |   |   |   |   |   |--- value: [12048.98]\n",
      "|   |   |   |   |   |   |   |--- feature_1 >  31.00\n",
      "|   |   |   |   |   |   |   |   |--- value: [9246.72]\n",
      "|   |   |   |   |   |--- feature_0 >  3931178.25\n",
      "|   |   |   |   |   |   |--- feature_1 <= 39.00\n",
      "|   |   |   |   |   |   |   |--- feature_0 <= 7526448.50\n",
      "|   |   |   |   |   |   |   |   |--- feature_1 <= 24.50\n",
      "|   |   |   |   |   |   |   |   |   |--- value: [20282.60]\n",
      "|   |   |   |   |   |   |   |   |--- feature_1 >  24.50\n",
      "|   |   |   |   |   |   |   |   |   |--- feature_1 <= 33.00\n",
      "|   |   |   |   |   |   |   |   |   |   |--- value: [24328.62]\n",
      "|   |   |   |   |   |   |   |   |   |--- feature_1 >  33.00\n",
      "|   |   |   |   |   |   |   |   |   |   |--- value: [24452.35]\n",
      "|   |   |   |   |   |   |   |--- feature_0 >  7526448.50\n",
      "|   |   |   |   |   |   |   |   |--- value: [16311.06]\n",
      "|   |   |   |   |   |   |--- feature_1 >  39.00\n",
      "|   |   |   |   |   |   |   |--- feature_0 <= 6057370.75\n",
      "|   |   |   |   |   |   |   |   |--- value: [35343.92]\n",
      "|   |   |   |   |   |   |   |--- feature_0 >  6057370.75\n",
      "|   |   |   |   |   |   |   |   |--- value: [22618.82]\n",
      "|   |   |--- feature_1 >  42.50\n",
      "|   |   |   |--- value: [33644.13]\n",
      "|   |--- feature_1 >  43.50\n",
      "|   |   |--- feature_1 <= 51.00\n",
      "|   |   |   |--- feature_1 <= 48.00\n",
      "|   |   |   |   |--- feature_0 <= 1298622.72\n",
      "|   |   |   |   |   |--- value: [17324.04]\n",
      "|   |   |   |   |--- feature_0 >  1298622.72\n",
      "|   |   |   |   |   |--- feature_0 <= 9694774.81\n",
      "|   |   |   |   |   |   |--- value: [14822.70]\n",
      "|   |   |   |   |   |--- feature_0 >  9694774.81\n",
      "|   |   |   |   |   |   |--- value: [13079.76]\n",
      "|   |   |   |--- feature_1 >  48.00\n",
      "|   |   |   |   |--- value: [10058.86]\n",
      "|   |   |--- feature_1 >  51.00\n",
      "|   |   |   |--- value: [26500.46]\n",
      "\n"
     ]
    }
   ],
   "source": [
    "# Decision Tree Algorithm\n",
    "\n",
    "from sklearn.tree import DecisionTreeRegressor\n",
    "from sklearn.tree import export_text\n",
    "\n",
    "# Train the model\n",
    "model = DecisionTreeRegressor().fit(X_train, y_train)\n",
    "print (model, \"\\n\")\n",
    "\n",
    "# Visualize the model tree\n",
    "tree = export_text(model)\n",
    "print(tree)\n",
    "f = open('filename.txt', 'w')\n",
    "print(tree, file = f)\n",
    "f.close()"
   ]
  },
  {
   "cell_type": "code",
   "execution_count": null,
   "metadata": {},
   "outputs": [],
   "source": []
  },
  {
   "cell_type": "code",
   "execution_count": 38,
   "metadata": {},
   "outputs": [
    {
     "name": "stdout",
     "output_type": "stream",
     "text": [
      "MSE: 81273350.93005332\n",
      "RMSE: 9015.173372157262\n",
      "R2: -0.3971911462174178\n"
     ]
    },
    {
     "data": {
      "image/png": "[encoded data removed]",
      "text/plain": [
       "<Figure size 432x288 with 1 Axes>"
      ]
     },
     "metadata": {
      "needs_background": "light"
     },
     "output_type": "display_data"
    }
   ],
   "source": [
    "# Evaluate the model using the test data\n",
    "predictions = model.predict(X_test)\n",
    "mse = mean_squared_error(y_test, predictions)\n",
    "print(\"MSE:\", mse)\n",
    "rmse = np.sqrt(mse)\n",
    "print(\"RMSE:\", rmse)\n",
    "r2 = r2_score(y_test, predictions)\n",
    "print(\"R2:\", r2)\n",
    "\n",
    "# Plot predicted vs actual\n",
    "plt.scatter(y_test, predictions)\n",
    "plt.xlabel('Actual Labels')\n",
    "plt.ylabel('Predicted Labels')\n",
    "plt.title('Daily Bike Share Predictions')\n",
    "# overlay the regression line\n",
    "z = np.polyfit(y_test, predictions, 1)\n",
    "p = np.poly1d(z)\n",
    "plt.plot(y_test,p(y_test), color='magenta')\n",
    "plt.show()"
   ]
  },
  {
   "cell_type": "code",
   "execution_count": null,
   "metadata": {},
   "outputs": [],
   "source": []
  }
 ],
 "metadata": {
  "kernelspec": {
   "display_name": "Python 3",
   "language": "python",
   "name": "python3"
  },
  "language_info": {
   "codemirror_mode": {
    "name": "ipython",
    "version": 3
   },
   "file_extension": ".py",
   "mimetype": "text/x-python",
   "name": "python",
   "nbconvert_exporter": "python",
   "pygments_lexer": "ipython3",
   "version": "3.6.5"
  }
 },
 "nbformat": 4,
 "nbformat_minor": 4
}
